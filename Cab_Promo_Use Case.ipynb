{
 "cells": [
  {
   "cell_type": "code",
   "execution_count": 177,
   "metadata": {},
   "outputs": [],
   "source": [
    "#Loading the necessary packages\n",
    "import pandas as pd\n",
    "import re\n",
    "from datetime import datetime,timedelta,date\n",
    "from dateutil.relativedelta import *\n",
    "from warnings import filterwarnings\n",
    "filterwarnings(\"ignore\")\n",
    "##Dataframe Global variables\n",
    "pd.set_option('display.max_columns',40)\n",
    "pd.set_option('max_colwidth',50)"
   ]
  },
  {
   "cell_type": "code",
   "execution_count": 178,
   "metadata": {},
   "outputs": [],
   "source": [
    "##Conditions\n",
    "## Data Should be present till lastmonth\n",
    "## Input data of the months considered should be complete i.e till end of every month else will be eliminated."
   ]
  },
  {
   "cell_type": "code",
   "execution_count": 179,
   "metadata": {},
   "outputs": [],
   "source": [
    "def read_file(filepath,filetype,encoding='ISO-8859-1'):\n",
    "    \"\"\"\n",
    "    This function reads txt and csv files and returns the data\n",
    "    \"\"\"\n",
    "    if(filetype==\"txt\" or \"csv\"):\n",
    "        data = pd.read_csv(filepath,encoding=encoding,low_memory=False)    \n",
    "    else:\n",
    "        raise Exception(\"Kindly Check! Only txt or csv filetype allowed\")\n",
    "    return data"
   ]
  },
  {
   "cell_type": "code",
   "execution_count": 180,
   "metadata": {},
   "outputs": [],
   "source": [
    "def read_file_chunks(filepath,filetype,chunk_size,encoding='ISO-8859-1'):\n",
    "    \"\"\"\n",
    "    This function reads data from the file in chunks\n",
    "    \"\"\"\n",
    "    if(filetype==\"txt\" or \"csv\"):\n",
    "        chunk_data = pd.read_csv(filepath,encoding=encoding,low_memory=False,chunksize=chunk_size)\n",
    "        for chunks in range(0,999):\n",
    "            if(chunks==0):\n",
    "                card_txn_data = next(chunk_data)\n",
    "            else:\n",
    "                try:\n",
    "                    card_txn_data = card_txn_data.append(next(chunk_data))\n",
    "                except StopIteration:\n",
    "                    break\n",
    "    else:\n",
    "        raise Exception(\"Kindly Check! Only txt or csv filetype allowed\")\n",
    "    return card_txn_data  "
   ]
  },
  {
   "cell_type": "code",
   "execution_count": 181,
   "metadata": {},
   "outputs": [],
   "source": [
    "def clean_filter_cardname(name,rm_space=\"\"):\n",
    "    \"\"\"\n",
    "    This function is used to get cleaned card acceptor name\n",
    "    \"\"\"\n",
    "    name = name.lower()\n",
    "    #remove numbers special characters and concatenate\n",
    "    name = re.sub(\"[^a-zA-Z\\s]\",\"\",name)\n",
    "    ## removes space inbetween words\n",
    "    if(rm_space == 'X'):\n",
    "        name = re.sub(\"[^a-zA-Z]\",\"\",name)\n",
    "    return name"
   ]
  },
  {
   "cell_type": "code",
   "execution_count": 182,
   "metadata": {},
   "outputs": [],
   "source": [
    "def tag_auto_txn(row):\n",
    "    if(row.merchant_cats_lowercase.find('taxicabs')!=-1):\n",
    "        if((str(row.clean_txn_name).find('uber')!=-1)&(str(row.clean_txn_name).find('eats')==-1)):\n",
    "            value = 'uber'\n",
    "        elif(str(row.clean_txn_name).find('lyft')!=-1):\n",
    "            value = 'lyft'\n",
    "        else:\n",
    "            value =''  \n",
    "    else:\n",
    "        value = ''    \n",
    "    return value"
   ]
  },
  {
   "cell_type": "code",
   "execution_count": 183,
   "metadata": {},
   "outputs": [],
   "source": [
    "def condition_check(cust,data,min_limit,txn_hist_date):\n",
    "    \"\"\"\n",
    "    This function checks if provided min limit of txns is met in past 3 months of txn data of a customer.\n",
    "    if condition is satisfied it returns 1 else 0\n",
    "    \"\"\"\n",
    "    mon_1 = txn_hist_date-timedelta(31)\n",
    "    mon_2 = txn_hist_date-timedelta(61)\n",
    "    mon_3 = txn_hist_date-timedelta(91)\n",
    "    pastmonth_1 = str(format(mon_1.month,'02'))+'_'+str(mon_1.year)\n",
    "    pastmonth_2 = str(format(mon_2.month,'02'))+'_'+str(mon_2.year)\n",
    "    pastmonth_3 = str(format(mon_3.month,'02'))+'_'+str(mon_3.year)\n",
    "    #print(records,records_min_txns)\n",
    "    if(len(data.loc[(data['MO_YR'].isin([pastmonth_1,pastmonth_2,pastmonth_3]))&(data.txn_cnt_month>=min_limit),'MO_YR'])==3):\n",
    "        return 1\n",
    "    else:\n",
    "        return 0"
   ]
  },
  {
   "cell_type": "markdown",
   "metadata": {},
   "source": [
    "## Read the data"
   ]
  },
  {
   "cell_type": "code",
   "execution_count": 184,
   "metadata": {},
   "outputs": [],
   "source": [
    "filepath = r'C:\\Users\\ujjwa\\Downloads\\Grow Backup\\Grow\\data\\Customers_10000\\Customers_10000.csv'\n",
    "filetype = \"csv\"\n",
    "encoding = \"ISO-8859-1\"\n",
    "chunksize = 350000\n",
    "card_txn_data = read_file_chunks(filepath,filetype,chunksize)\n",
    "#card_txn_data = read_file(filepath,filetype)\n",
    "if(len(card_txn_data)==0):\n",
    "    raise Exception(\"Data not loaded Kindly check!format of the data file\")"
   ]
  },
  {
   "cell_type": "code",
   "execution_count": 186,
   "metadata": {},
   "outputs": [],
   "source": [
    "required_cols = ['ArtificialAccountKey', 'POSTAMOUNT','CARDACCEPTORCITY',\n",
    "                 'CARDACCEPTORCOUNTRY', 'CARDACCEPTORNAME', 'CARDACCEPTORSTATE',\n",
    "                 'CARDACCEPTORSTREET', 'LOCALTRANDATE', 'LOCALTRANTIME',\n",
    "                 'MerchantCategory','MISCDATA3','OURACCTCODE1', 'OURCARDTYPE', 'OURSYSTEMDATE', 'OURTRANCODE',\n",
    "                 'RECURRINGFLAG']\n",
    "card_txn_data = card_txn_data[required_cols]"
   ]
  },
  {
   "cell_type": "code",
   "execution_count": 189,
   "metadata": {},
   "outputs": [],
   "source": [
    "##Categories related to cab services.\n",
    "rental_tags = ['taxicabs','limousines']\n",
    "##Initialization of variable\n",
    "auto_txn_categories = []"
   ]
  },
  {
   "cell_type": "code",
   "execution_count": 190,
   "metadata": {},
   "outputs": [],
   "source": [
    "##Required columns\n",
    "card_txn_data['LOCALTRANDATE'] = pd.to_datetime(card_txn_data.LOCALTRANDATE)\n",
    "card_txn_data['MONTH'] = card_txn_data['LOCALTRANDATE'].apply(lambda x:format(x.month,'02'))\n",
    "card_txn_data['YEAR'] = card_txn_data['LOCALTRANDATE'].apply(lambda x:x.year)\n",
    "card_txn_data['MO_YR'] = card_txn_data['MONTH'].astype('str')+'_'+card_txn_data['YEAR'].astype('str')\n",
    "card_txn_data['DATE'] = card_txn_data['LOCALTRANDATE'].apply(lambda x:datetime.strftime(x,'%Y-%m-%d'))"
   ]
  },
  {
   "cell_type": "code",
   "execution_count": 191,
   "metadata": {},
   "outputs": [],
   "source": [
    "##Get clean card acceptor names\n",
    "card_txn_data['clean_txn_name'] = card_txn_data['CARDACCEPTORNAME'].apply(lambda x:clean_filter_cardname(x))\n",
    "##column with merchant category in lower case\n",
    "card_txn_data['merchant_cats_lowercase'] = card_txn_data['MerchantCategory'].apply(lambda x:str(x).lower())"
   ]
  },
  {
   "cell_type": "code",
   "execution_count": 193,
   "metadata": {},
   "outputs": [],
   "source": [
    "## Fetching Categories related to cabs (uber and lyft)\n",
    "merchant_cats = card_txn_data.merchant_cats_lowercase.unique()\n",
    "for cats in merchant_cats:\n",
    "    count = 0\n",
    "    for word in rental_tags:\n",
    "        if(str(cats).find(word)!=-1):\n",
    "            count = count+1\n",
    "    ##If more than one tag is present in category name\n",
    "    if(count>1):\n",
    "        auto_txn_categories.append(cats)\n",
    "##Raise an exception if no data is present\n",
    "if(len(auto_txn_categories)==0):\n",
    "    raise Exception(\"Kindly check! No cab or rental related categories data is present\")"
   ]
  },
  {
   "cell_type": "code",
   "execution_count": 195,
   "metadata": {},
   "outputs": [],
   "source": [
    "##Last date of recorded txn\n",
    "txn_last_date = card_txn_data.LOCALTRANDATE.max()\n",
    "#changing the end date to the first day of the last month, as the month is incomplete.\n",
    "end_date = txn_last_date.replace(day=1)\n",
    "## Working on data related only to auto transactions and before the last full month transaction.\n",
    "auto_txn_data = card_txn_data.loc[(card_txn_data.merchant_cats_lowercase.isin(auto_txn_categories))&(card_txn_data.LOCALTRANDATE<end_date),]\n",
    "auto_txn_data.reset_index(inplace=True,drop=True)\n",
    "##Check if auto_txn_data is not empty\n",
    "if(len(auto_txn_data)==0):\n",
    "    raise Exception(\"Kindly check! No data related to auto transactions\")"
   ]
  },
  {
   "cell_type": "code",
   "execution_count": 196,
   "metadata": {},
   "outputs": [],
   "source": [
    "auto_txn_data['auto_txn_tag'] = auto_txn_data.apply(tag_auto_txn,axis=1)"
   ]
  },
  {
   "cell_type": "code",
   "execution_count": 198,
   "metadata": {},
   "outputs": [],
   "source": [
    "##Remove other transactions related to uber eats and other cab services\n",
    "auto_final_data = auto_txn_data.loc[auto_txn_data.auto_txn_tag!='',]"
   ]
  },
  {
   "cell_type": "code",
   "execution_count": 199,
   "metadata": {},
   "outputs": [],
   "source": [
    "##GroupBy and count values per month\n",
    "auto_data_grouped = auto_final_data.groupby(by=['ArtificialAccountKey','auto_txn_tag','MO_YR'],as_index=False)['POSTAMOUNT'].agg({'monthly_amt_spent':'sum', 'txn_cnt_month':'count'})"
   ]
  },
  {
   "cell_type": "code",
   "execution_count": 201,
   "metadata": {},
   "outputs": [],
   "source": [
    "##List of Customers to be analyzed\n",
    "customers_list = auto_data_grouped.ArtificialAccountKey.unique().tolist()"
   ]
  },
  {
   "cell_type": "markdown",
   "metadata": {},
   "source": [
    "## Main Logic"
   ]
  },
  {
   "cell_type": "code",
   "execution_count": 203,
   "metadata": {},
   "outputs": [],
   "source": [
    "##Main Logic for each customer to capture the customers making frequent cab transactions.\n",
    "uber_cust,lyft_cust = [],[]\n",
    "for cust_key in customers_list:\n",
    "    uber_check,lyft_check = 0,0\n",
    "    uber_data = auto_data_grouped.loc[(auto_data_grouped.ArtificialAccountKey==cust_key)&(auto_data_grouped.auto_txn_tag =='uber'),]\n",
    "    lyft_data = auto_data_grouped.loc[(auto_data_grouped.ArtificialAccountKey==cust_key)&(auto_data_grouped.auto_txn_tag =='lyft'),]\n",
    "    # More than 2 months data should be present then goes into condition check\n",
    "    if(len(uber_data)>2):\n",
    "        #check for minimum limit of transaction required, can be changed as per business need.\n",
    "        uber_check = condition_check(cust_key,uber_data,min_limit=15,txn_hist_date=txn_last_date)\n",
    "        if(uber_check == 1):\n",
    "            uber_cust.append(cust_key)\n",
    "    if(len(lyft_data)>2):\n",
    "        #check for minimum limit of transaction required, can be changed as per business need.\n",
    "        lyft_check = condition_check(cust_key,lyft_data,min_limit=5,txn_hist_date=txn_last_date)\n",
    "        if(lyft_check == 1):\n",
    "            lyft_cust.append(cust_key)"
   ]
  },
  {
   "cell_type": "code",
   "execution_count": 204,
   "metadata": {},
   "outputs": [],
   "source": [
    "##Group the customer related transaction data\n",
    "uber_grouped = auto_data_grouped.loc[(auto_data_grouped.ArtificialAccountKey.isin(uber_cust))&(auto_data_grouped.auto_txn_tag =='uber')]\n",
    "lyft_grouped = auto_data_grouped.loc[(auto_data_grouped.ArtificialAccountKey.isin(lyft_cust))&(auto_data_grouped.auto_txn_tag =='lyft')]"
   ]
  },
  {
   "cell_type": "code",
   "execution_count": 205,
   "metadata": {},
   "outputs": [],
   "source": [
    "## Pivot table output for each customer and summary of their cab transactions.\n",
    "uber_pivot = uber_grouped.pivot_table(index=['ArtificialAccountKey','auto_txn_tag'],columns='MO_YR',values='txn_cnt_month',fill_value=0)\n",
    "uber_pivot.reset_index(inplace=True)\n",
    "lyft_pivot = lyft_grouped.pivot_table(index=['ArtificialAccountKey','auto_txn_tag'],columns='MO_YR',values='txn_cnt_month',fill_value=0)\n",
    "lyft_pivot.reset_index(inplace=True)"
   ]
  },
  {
   "cell_type": "markdown",
   "metadata": {},
   "source": [
    "## Output"
   ]
  },
  {
   "cell_type": "code",
   "execution_count": 206,
   "metadata": {},
   "outputs": [],
   "source": [
    "## Final Output - Dataframe uber_pivot and lyft_pivot contains transactions summary for all the customers and can be targeted for special offers."
   ]
  },
  {
   "cell_type": "code",
   "execution_count": null,
   "metadata": {},
   "outputs": [],
   "source": [
    "uber_pivot"
   ]
  },
  {
   "cell_type": "code",
   "execution_count": null,
   "metadata": {},
   "outputs": [],
   "source": [
    "lyft_pivot"
   ]
  }
 ],
 "metadata": {
  "kernelspec": {
   "display_name": "Python 3",
   "language": "python",
   "name": "python3"
  },
  "language_info": {
   "codemirror_mode": {
    "name": "ipython",
    "version": 3
   },
   "file_extension": ".py",
   "mimetype": "text/x-python",
   "name": "python",
   "nbconvert_exporter": "python",
   "pygments_lexer": "ipython3",
   "version": "3.7.0"
  }
 },
 "nbformat": 4,
 "nbformat_minor": 2
}
